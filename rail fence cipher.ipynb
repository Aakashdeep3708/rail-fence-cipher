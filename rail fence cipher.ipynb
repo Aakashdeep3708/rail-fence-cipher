{
 "cells": [
  {
   "cell_type": "code",
   "execution_count": 14,
   "id": "93ce07b7",
   "metadata": {},
   "outputs": [
    {
     "name": "stdout",
     "output_type": "stream",
     "text": [
      "Type encode for encryption or decode for decryption: encode\n",
      "enter the text :aakash deep\n",
      "Your encrypted message is: aksdeaahep\n",
      "wanna try again?.Type yes or no: no\n",
      "Thank you for using rail fence cipher\n"
     ]
    }
   ],
   "source": [
    "def decode_even():\n",
    "    plain_text=\"\"\n",
    "    for i in range(y):\n",
    "        plain_text+=first[i]+second[i]\n",
    "    print(f\"Your decoded message is: {plain_text}\")\n",
    "    \n",
    "def decode_odd():\n",
    "    plain_text=\"\"\n",
    "    for i in range(y+1):\n",
    "        plain_text+=first[i]+second[i]\n",
    "    print(f\"Your decoded message is: {plain_text}\")\n",
    "    \n",
    "func_repeat=True\n",
    "\n",
    "while func_repeat:\n",
    "    direction=input(\"Type encode for encryption or decode for decryption: \")\n",
    "    if direction==\"encode\":\n",
    "        plain_text= input(\"enter the text :\").replace(\" \",\"\")\n",
    "        first=\"\"\n",
    "        second=\"\"\n",
    "        for i in plain_text:\n",
    "            if i in first or i in second:\n",
    "                x+=1\n",
    "            else:    \n",
    "                x=plain_text.index(i)\n",
    "\n",
    "            if x==0 or x%2==0:\n",
    "                first+=i\n",
    "            else:\n",
    "                second+=i\n",
    "\n",
    "        cipher_text=first+second\n",
    "        print(f\"Your encrypted message is: {cipher_text}\")\n",
    "\n",
    "    elif direction==\"decode\":\n",
    "        cipher_text=input(\"enter the text :\").replace(\" \",\"\")\n",
    "        x=len(cipher_text)\n",
    "        y=int(x/2)\n",
    "        if x%2==0:\n",
    "            first=cipher_text[:y]\n",
    "            second=cipher_text[y:]\n",
    "            decode_even()\n",
    "        else:\n",
    "            first=cipher_text[:y+1]\n",
    "            second=cipher_text[y+1:]\n",
    "            second+=\" \"\n",
    "            decode_odd()\n",
    "            \n",
    "    else:\n",
    "        print(\"Enter valid input\")\n",
    "    \n",
    "    repeat=input(\"wanna try again?.Type yes or no: \")\n",
    "    if repeat==\"no\":\n",
    "        print(\"Thank you for using rail fence cipher\")\n",
    "        func_repeat=False"
   ]
  },
  {
   "cell_type": "code",
   "execution_count": null,
   "id": "c80ac401",
   "metadata": {},
   "outputs": [],
   "source": []
  }
 ],
 "metadata": {
  "kernelspec": {
   "display_name": "Python 3 (ipykernel)",
   "language": "python",
   "name": "python3"
  },
  "language_info": {
   "codemirror_mode": {
    "name": "ipython",
    "version": 3
   },
   "file_extension": ".py",
   "mimetype": "text/x-python",
   "name": "python",
   "nbconvert_exporter": "python",
   "pygments_lexer": "ipython3",
   "version": "3.11.5"
  }
 },
 "nbformat": 4,
 "nbformat_minor": 5
}
